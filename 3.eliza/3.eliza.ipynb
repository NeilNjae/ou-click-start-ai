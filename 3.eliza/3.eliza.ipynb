{
 "cells": [
  {
   "cell_type": "markdown",
   "id": "30ac2802",
   "metadata": {},
   "source": [
    "# ELIZA, a simple chatbot"
   ]
  },
  {
   "cell_type": "markdown",
   "id": "9da33592",
   "metadata": {},
   "source": [
    "In this activity, you'll build a version of _ELIZA_, the first chatbot. \n",
    "\n",
    "An AI system that has conversations with people is commonly called a chatbot. You could well have encountered them as the first level of customer service for large companies, or the question-answering assistant in phones and smart speakers. Just like the term AI the chatbot has a long history. The first chatbot was ELIZA (Weizenbaum, 1966), which purported to be a psychotherapist. It worked by simple pattern matching on the text inputs it was given.\n",
    "\n",
    "ELIZA had a set of rules that specified some keywords in the input: if a rule matched the input, then the rule specified how to use it to create a response.\n",
    "\n",
    "For instance, consider if ELIZA had the rules specified below.\n",
    "\n",
    "| Pattern | Responses |\n",
    "|---------|-----------|\n",
    "| ?X I want ?Y | what would it mean if you got ?Y<br>why do you want ?Y<br>suppose you got ?Y soon |\n",
    "| ?X I am sad ?Y | I am sorry to hear you are depressed<br>I’m sure it’s not pleasant to be sad |\n",
    "| ?X are like ?Y | what resemblance do you see between ?X and ?Y |\n",
    "\n",
    "With these rules, the sentence \n",
    "\n",
    "> sometimes I want to be happy\n",
    "\n",
    "would match the first rule, with the variable `?Y` matching the fragment ‘to be happy’. \n",
    "\n",
    "| ?X | | ?Y |\n",
    "|----|-|----|\n",
    "|sometimes | I want | to be happy |\n",
    "\n",
    "ELIZA could use that information to respond with the sentence:\n",
    "\n",
    "> ‘Why do you want to be happy?’\n",
    "\n",
    "with the matched value for `?Y` filling out the response.\n",
    "\n",
    "Weizenbaum created ELIZA to show how text communication could be simulated by such superficial processing. However, he was surprised by how readily people took to ELIZA and engaged it in conversations that were meaningful to the person. ELIZA is simple enough that it’s easy to modify its behaviour, which you will do in this activity.\n",
    "\n",
    "The state of the art of chatbots has moved on since the 1960s and tools like ChatGPT can now have conversations that seem like they are with a person. While ChatGPT is much more sophisticated than ELIZA, its basic operation remains the same: analyses its input, identifies the salient parts, and uses them to construct the response."
   ]
  },
  {
   "cell_type": "code",
   "execution_count": null,
   "id": "fa45aca6",
   "metadata": {},
   "outputs": [],
   "source": [
    "import yaml\n",
    "import collections\n",
    "import random\n",
    "import string"
   ]
  },
  {
   "cell_type": "markdown",
   "id": "f1d0b817",
   "metadata": {},
   "source": [
    "# Building ELIZA"
   ]
  },
  {
   "cell_type": "markdown",
   "id": "7a37a176",
   "metadata": {},
   "source": [
    "How do we go about building ELIZA?\n",
    "\n",
    "There are three main components we need to address.\n",
    "1. Representing the rules\n",
    "2. Matching user input to rules\n",
    "3. Using the matches to create ELIZA's output\n",
    "\n",
    "Once we have these pieces, we can do the fourth stage of putting them all together into the full chatbot.\n",
    "\n",
    "We'll take each of these steps in turn."
   ]
  },
  {
   "cell_type": "markdown",
   "id": "c353b2b1",
   "metadata": {},
   "source": [
    "# Rules"
   ]
  },
  {
   "cell_type": "markdown",
   "id": "def8c739-ba3c-4dcb-b2fb-64012d96dfb8",
   "metadata": {},
   "source": [
    "We can download some rules to work with. Execute this cell."
   ]
  },
  {
   "cell_type": "code",
   "execution_count": null,
   "id": "0d0eb2a7-cafd-4abe-90ff-112f31202ae8",
   "metadata": {},
   "outputs": [],
   "source": [
    "!wget --no-check-certificate https://raw.githubusercontent.com/NeilNjae/nominet-quick-start-ai/main/3.eliza/rules.yaml"
   ]
  },
  {
   "cell_type": "markdown",
   "id": "35ac73c0-778e-4b90-8a08-87c01264be9a",
   "metadata": {},
   "source": [
    "You can look at the raw rules file by clicking on the \"Files\" icon in the left sidebar and choosing the `rules.yaml` entry. You should be alboe to see that the rules follow the structure of a pattern and a set of possible responses."
   ]
  },
  {
   "cell_type": "markdown",
   "id": "4efa9ee9",
   "metadata": {},
   "source": [
    "We will follow that structure in our implementation and represent each rule as a dictionary of two elements: a `pattern` and a list of `responses`."
   ]
  },
  {
   "cell_type": "markdown",
   "id": "e3e752b7",
   "metadata": {},
   "source": [
    "We can now read in the set of rules from the file `rules.yaml`."
   ]
  },
  {
   "cell_type": "code",
   "execution_count": null,
   "id": "4cae5d1a",
   "metadata": {},
   "outputs": [],
   "source": [
    "def read_rules(rules_file):\n",
    "    \"\"\"Read a set of Eliza rules from a file.\"\"\"\n",
    "    rules = []\n",
    "    with open(rules_file) as f:\n",
    "        for r in yaml.safe_load(f):\n",
    "            resps = []\n",
    "            for rsp in r['responses']:\n",
    "                resps += [rsp.split()]\n",
    "            rule = {'pattern': r['pattern'].split(),\n",
    "                    'responses': resps}\n",
    "            rules += [rule]\n",
    "    return rules"
   ]
  },
  {
   "cell_type": "code",
   "execution_count": null,
   "id": "17bf7923",
   "metadata": {},
   "outputs": [],
   "source": [
    "all_rules = read_rules('rules.yaml')\n",
    "all_rules[:3]"
   ]
  },
  {
   "cell_type": "markdown",
   "id": "5f40b5c2",
   "metadata": {},
   "source": [
    "Showing the rules like this is accurate, but hardly easy to read. We'll use this function to \"pretty print\" a rule into something nicer to look at."
   ]
  },
  {
   "cell_type": "code",
   "execution_count": null,
   "id": "cd869417",
   "metadata": {},
   "outputs": [],
   "source": [
    "def show_rule(rule):\n",
    "    \"\"\"Pretty print a rule.\"\"\"\n",
    "    return {'pattern': ' '.join(rule['pattern']),\n",
    "           'responses': [' '.join(resp) for resp in rule['responses']]}"
   ]
  },
  {
   "cell_type": "code",
   "execution_count": null,
   "id": "fa32da8c",
   "metadata": {},
   "outputs": [],
   "source": [
    "for rule in all_rules[5:8]:\n",
    "    print(show_rule(rule))"
   ]
  },
  {
   "cell_type": "markdown",
   "id": "bfcbe978",
   "metadata": {},
   "source": [
    "# Matches"
   ]
  },
  {
   "cell_type": "markdown",
   "id": "8350366e",
   "metadata": {},
   "source": [
    "We need to match user input to the rules. The _result_ of this process is for us to know which variables in a rule match which parts of the input; that information can be used to generate the output. The normal term for \"connecting a variable and its value\" is a _binding_. In the example above, we would say that the variable `?X` is _bound_ to the value \"sometimes\" and the variable `?Y` is _bound_ to the value \"to be happy\". We can store a binding as a Python `dict` going from variable name to its bound value, such as `{'?X': ['sometimes'], '?Y': ['to' 'be' 'happy']}`.\n",
    "\n",
    "We'll do that by walking along the input text and the rule pattern in parallel, from left to right. If we can match the first token of each, we'll record any bindings then move on to the next tokens.\n",
    "\n",
    "Consider the input text\n",
    "> the cat sat on the mat\n",
    "\n",
    "and the rule pattern\n",
    "> the ?X sat on the ?Y\n",
    "\n",
    "We start by comparing the leftmost tokens. The leftmost token in in the pattern is the literal word \"the\" and this is the same as the first word of the input. These are the same, so the matching continues.\n",
    "\n",
    "We now have the situation of matching \"cat sat on the mat\" with \"?X sat on the ?Y\". We need to bind the variable `?X` with some words in the input. The variable can match zero or more words; as yet, just by looking at the first word of the input, we don't know how many words to include in the binding. We'll do what's easy for us and try them all, letting the computer do the work. This gives us a set of possible bindings and next steps:\n",
    "\n",
    "| Remaining text | Remaining pattern | Bindings |\n",
    "|----------------|-------------------|----------|\n",
    "| cat sat on the mat | sat on the ?Y | {'?X': []} |\n",
    "| sat on the mat | sat on the ?Y | {'?X': ['cat']} |\n",
    "| on the mat | sat on the ?Y | {'?X': ['cat', 'sat']} |\n",
    "| the mat | sat on the ?Y | {'?X': ['cat', 'sat', 'on']} |\n",
    "| mat | sat on the ?Y | {'?X': ['cat', 'sat', 'on', 'the']} |\n",
    "\n",
    "It's obvious to us that only one of these will lead to the whole pattern matching, but that's all we can do by looking at just the _first_ elements of the text and the pattern.\n",
    "\n",
    "There's more to look at with how matches work, but this is enough to get along with at the moment.\n",
    "\n",
    "The first thing to do is define a structure to hold a partial match: we need to hold the remaining text, the remaining pattern, and the bindings found so far. We'll use another `dict` with these three elements."
   ]
  },
  {
   "cell_type": "markdown",
   "id": "6cff8344",
   "metadata": {},
   "source": [
    "We define a match as _successful_ if there is both no more text and no more pattern."
   ]
  },
  {
   "cell_type": "code",
   "execution_count": null,
   "id": "dfd08ccf",
   "metadata": {},
   "outputs": [],
   "source": [
    "def successful_match(match):\n",
    "    \"\"\"A match is successful it it uses all the text and all the pattern.\"\"\"\n",
    "    return match['text'] == [] and match['pattern'] == []"
   ]
  },
  {
   "cell_type": "markdown",
   "id": "d9abebf7",
   "metadata": {},
   "source": [
    "We also have a utility function that will convert the user's input into a list of words. It removes punctuation and converts all the text to lower-case."
   ]
  },
  {
   "cell_type": "code",
   "execution_count": null,
   "id": "ce8a3719",
   "metadata": {},
   "outputs": [],
   "source": [
    "def tokenise(text):\n",
    "    \"\"\"Convert a text string into a list of lower-case words, removing punctuation\"\"\"\n",
    "    without_punctuation = text.translate(str.maketrans('', '', string.punctuation))\n",
    "    lowered = without_punctuation.lower()\n",
    "    return lowered.split()"
   ]
  },
  {
   "cell_type": "code",
   "execution_count": null,
   "id": "5dc9ab7c",
   "metadata": {},
   "outputs": [],
   "source": [
    "tokenise(\"A man, a plan, a canal, Panama!\")"
   ]
  },
  {
   "cell_type": "markdown",
   "id": "7a0b40d5",
   "metadata": {},
   "source": [
    "## Exercise"
   ]
  },
  {
   "cell_type": "markdown",
   "id": "776006fb",
   "metadata": {},
   "source": [
    "We can now build a couple of utiilty functions to make this all work. \n",
    "\n",
    "First is a function that will detect if a token in a pattern is a variable. We mark variables as any string that starts with a \"?\".\n",
    "\n",
    "Write the function `is_var()`. Recall that you can find the specific characters of a string by using indexes."
   ]
  },
  {
   "cell_type": "code",
   "execution_count": null,
   "id": "f412e4fa",
   "metadata": {},
   "outputs": [],
   "source": [
    "def is_var(word):\n",
    "    ...."
   ]
  },
  {
   "cell_type": "markdown",
   "id": "250f5de2",
   "metadata": {},
   "source": [
    "### Solution"
   ]
  },
  {
   "cell_type": "code",
   "execution_count": null,
   "id": "ea5da5f8",
   "metadata": {},
   "outputs": [],
   "source": [
    "def is_var(word):\n",
    "    \"\"\"True if word is a variable.\"\"\"\n",
    "    return word[0] == '?'"
   ]
  },
  {
   "cell_type": "markdown",
   "id": "6194db69",
   "metadata": {},
   "source": [
    "### End of solution"
   ]
  },
  {
   "cell_type": "markdown",
   "id": "af0f1314",
   "metadata": {},
   "source": [
    "## Exercise"
   ]
  },
  {
   "cell_type": "markdown",
   "id": "b28d2150",
   "metadata": {},
   "source": [
    "The next thing is to find candiates for a variable to match. We need to split the text into two parts (a prefix and a suffix); the prefix can be bound to a variable and the suffix used to continue matching.\n",
    "\n",
    "Write the function `splits()` that returns all two-part splits of a list. Either part can be empty.\n",
    "\n",
    "For instance, the function call \n",
    "```python\n",
    "splits(['a', 'man', 'a', 'plan'])\n",
    "```\n",
    "\n",
    "should return\n",
    "\n",
    "```python\n",
    "[([],                        ['a', 'man', 'a', 'plan']),\n",
    " (['a'],                     ['man', 'a', 'plan']),\n",
    " (['a', 'man'],              ['a', 'plan']),\n",
    " (['a', 'man', 'a'],         ['plan']),\n",
    " (['a', 'man', 'a', 'plan'], [])]\n",
    "```\n",
    "\n",
    "Recall how to find slices of a list."
   ]
  },
  {
   "cell_type": "markdown",
   "id": "81c4dc11",
   "metadata": {},
   "source": [
    "### Solution"
   ]
  },
  {
   "cell_type": "code",
   "execution_count": null,
   "id": "5a705f6f",
   "metadata": {},
   "outputs": [],
   "source": [
    "def splits(items):\n",
    "    \"\"\"Return all the ways of splitting the items into two parts, \n",
    "    either of which can be empty.\"\"\"\n",
    "    results = []\n",
    "    for i in range(len(items) + 1):\n",
    "        results += [(items[:i], items[i:])]\n",
    "    return results"
   ]
  },
  {
   "cell_type": "code",
   "execution_count": null,
   "id": "c6862262-3c29-43e2-aa1d-0864bd85d2fc",
   "metadata": {},
   "outputs": [],
   "source": [
    "splits(['a', 'man', 'a', 'plan'])"
   ]
  },
  {
   "cell_type": "markdown",
   "id": "5f704fae",
   "metadata": {},
   "source": [
    "### End of solution"
   ]
  },
  {
   "cell_type": "markdown",
   "id": "ffb67064",
   "metadata": {},
   "source": [
    "We can now match the start of a pattern against the start of some text. This function is given some text, a pattern, and some bindings. It returns a list of `Match` objects that can be used to continue matching from this point. If the given pattern can't match against the given text, the function returns an empty list.\n",
    "\n",
    "There are a few cases to consider, and the implementation of the function follows them.\n",
    "\n",
    "1. If the first element of the pattern is a varialble:\n",
    "   1. If this is a variable that is already bound:\n",
    "      1. If the first few tokens of the text match the bound value:\n",
    "         1. Create a new `Match` object that drops the first few tokens from the text, variable from the pattern, and the existing bindings; return it as a singleton list.\n",
    "      2. Otherwise:\n",
    "         1. Return this empty list.\n",
    "    2. Otherwise (this is the first time seeing this variable):\n",
    "       1. Initialise the list of matches to the empty list.\n",
    "       2. For each (prefix, suffix) pair from splitting the text:\n",
    "          1. Bind the variable to the prefix.\n",
    "          2. Create a new `Match` object, where the text to match is the suffix and the pattern doesn't have this variable.\n",
    "          3. Add the new `Match` to the list of matches\n",
    "        3. Return the list of matches\n",
    "2. Otherwise (the first element of the pattern is a literal word):\n",
    "   1. If the first element of the pattern is the same as the first element of the text:\n",
    "      1. Return a new `Match` object that drops this word.\n",
    "   2. Otherwise:\n",
    "      1. Return the empty list.\n",
    "    "
   ]
  },
  {
   "cell_type": "code",
   "execution_count": null,
   "id": "828ccaf4",
   "metadata": {},
   "outputs": [],
   "source": [
    "def match_item(match):\n",
    "    \"\"\"Match the first segment of text against the first segment of rule,\n",
    "    respecting the current variable bindings, and creating new bindings\n",
    "    if necessary.\"\"\"\n",
    "    text = match['text']\n",
    "    pattern = match['pattern']\n",
    "    bindings = match['bindings']\n",
    "    element = pattern[0]\n",
    "    if is_var(element):\n",
    "        if element in bindings:\n",
    "            # already seen this variable\n",
    "            if text[:len(bindings[element])] == bindings[element]:\n",
    "                return [{'text': text[(len(bindings[element])):], \n",
    "                         'pattern': pattern[1:], \n",
    "                         'bindings': bindings}]\n",
    "            else:\n",
    "                return []\n",
    "        else:\n",
    "            # not seen this variable yet\n",
    "            matches = []\n",
    "            for prefix, suffix in splits(text):\n",
    "                new_bindings = bindings.copy()\n",
    "                new_bindings[element] = prefix\n",
    "                matches += [{'text': suffix, 'pattern': pattern[1:], 'bindings': new_bindings}]\n",
    "            return matches\n",
    "    elif text and text[0] == element:\n",
    "        return [{'text': text[1:], 'pattern': pattern[1:], 'bindings': bindings}]\n",
    "    else:\n",
    "        return []"
   ]
  },
  {
   "cell_type": "code",
   "execution_count": null,
   "id": "51d17231",
   "metadata": {},
   "outputs": [],
   "source": [
    "match_item({'text': tokenise('a man a plan a canal panama'), 'pattern': ['?X', 'a', '?Y'], 'bindings': {}})"
   ]
  },
  {
   "cell_type": "code",
   "execution_count": null,
   "id": "cd688dd2",
   "metadata": {},
   "outputs": [],
   "source": [
    "match_item({'text': tokenise('a man a plan a canal panama'), 'pattern': ['a', '?Y'], 'bindings': {}})"
   ]
  },
  {
   "cell_type": "code",
   "execution_count": null,
   "id": "b088cae7",
   "metadata": {},
   "outputs": [],
   "source": [
    "match_item({'text': tokenise('a man a plan a canal panama'), 'pattern': ['?X', 'a', '?Y'], 'bindings': {'?X': ['a', 'man']}})"
   ]
  },
  {
   "cell_type": "code",
   "execution_count": null,
   "id": "300534e4",
   "metadata": {},
   "outputs": [],
   "source": [
    "match_item({'text': tokenise('a man a plan a canal panama'), 'pattern': ['?X', 'a', '?Y'], 'bindings': {'?X': ['a', 'plan']}})"
   ]
  },
  {
   "cell_type": "code",
   "execution_count": null,
   "id": "6ea8afde",
   "metadata": {},
   "outputs": [],
   "source": [
    "match_item({'text': tokenise('a man a plan a canal panama'), 'pattern': ['a', 'plan'], 'bindings': {'?X': ['a', 'man']}})"
   ]
  },
  {
   "cell_type": "code",
   "execution_count": null,
   "id": "b3be4e3d",
   "metadata": {},
   "outputs": [],
   "source": [
    "match_item({'text': tokenise('a man a plan a canal panama'), 'pattern': ['plan'], 'bindings': {'?X': ['a', 'man']}})"
   ]
  },
  {
   "cell_type": "markdown",
   "id": "f79afe2c-8fbf-40b7-848c-f27c79290bd1",
   "metadata": {},
   "source": [
    "Now we can match one item in a pattern, we can write a wrapper that will find all matches between a given text and a given pattern.\n",
    "\n",
    "We do that by maintianing two lists. One is a list of partial matches in progress, the other is a list of successful matches.\n",
    "\n",
    "The \"matches in progress\" starts with just one item: the initial text, the initial item, and the empty set of bindings. The successes starts empty.\n",
    "\n",
    "We treat the matches in progress as a queue of work. While there is work to do, we take the first item of the queue, find all the results of `match_item` on that partial match, and insert the results at the end of the queue.\n",
    "\n",
    "The full pseudocode for `match` is:\n",
    "\n",
    "```\n",
    "initialise successes to []\n",
    "initialise matches to [{text, pattern, {} }]\n",
    "while matches:\n",
    "  set current to first element of matches\n",
    "  set new_matches to []\n",
    "  if current is a successful match:\n",
    "    add current's bindings to successes\n",
    "    set new_matches to []\n",
    "  else if current's pattern is not empty:\n",
    "    set new_matches to match_item(current)\n",
    "  set matches to (matches without the first element) + new_matches\n",
    "return successes\n",
    "```"
   ]
  },
  {
   "cell_type": "markdown",
   "id": "3d1e15d8-906f-4a6c-ab09-9ab6b15c7375",
   "metadata": {},
   "source": [
    "## Exericse"
   ]
  },
  {
   "cell_type": "markdown",
   "id": "a76a97de-4004-4840-9bb6-b2713d9f362e",
   "metadata": {},
   "source": [
    "Write `match`.\n",
    "\n",
    "The call to \n",
    "```\n",
    "match(tokenise('a man a plan a canal panama'), ['?X', 'a', '?Y', 'a', '?Z'])\n",
    "```\n",
    "\n",
    "should give this result of three possible matches.\n",
    "\n",
    "```\n",
    "[{'?X': [], '?Y': ['man'], '?Z': ['plan', 'a', 'canal', 'panama']},\n",
    " {'?X': [], '?Y': ['man', 'a', 'plan'], '?Z': ['canal', 'panama']},\n",
    " {'?X': ['a', 'man'], '?Y': ['plan'], '?Z': ['canal', 'panama']}]\n",
    "```"
   ]
  },
  {
   "cell_type": "markdown",
   "id": "8576f10c-8e13-448a-8385-4df3c65fa879",
   "metadata": {},
   "source": [
    "### Solution"
   ]
  },
  {
   "cell_type": "code",
   "execution_count": null,
   "id": "38ea68e6",
   "metadata": {},
   "outputs": [],
   "source": [
    "def match(text, pattern):\n",
    "    \"\"\"Match a text against a pattern, returning all possible matches.\"\"\"\n",
    "    successes = []\n",
    "    matches = [{'text': text, 'pattern': pattern, 'bindings': {}}]\n",
    "    while matches:\n",
    "        # print(matches, '***', successes)\n",
    "        current = matches[0]\n",
    "        new_matches = []\n",
    "        if successful_match(current):\n",
    "            successes += [current['bindings']]\n",
    "            new_matches = []\n",
    "        elif current['pattern']:\n",
    "            new_matches = match_item(current)\n",
    "        matches = matches[1:] + new_matches\n",
    "    return successes"
   ]
  },
  {
   "cell_type": "code",
   "execution_count": null,
   "id": "7985f18d",
   "metadata": {},
   "outputs": [],
   "source": [
    "match(tokenise('a man a plan a canal panama'), ['?X', 'a', '?Y', 'a', '?Z'])"
   ]
  },
  {
   "cell_type": "markdown",
   "id": "084eb2cc-ab9c-4f2d-a232-e0ce8a5d363d",
   "metadata": {},
   "source": [
    "### End of solution"
   ]
  },
  {
   "cell_type": "markdown",
   "id": "60e0a8e8",
   "metadata": {},
   "source": [
    "There are a couple of complexities here. \n",
    "\n",
    "It could be that a pattern matches some text in more than one way. For instance, the pattern `?X a ?Y` has several possible matches to the sentence \"a man, a plan, a canal, Panama!\"\n",
    "\n",
    "| ?X | ?Y |\n",
    "|----|----|\n",
    "| Nothing | man, a plan, a canal, Panama! |\n",
    "| a man, | plan, a canal, Panama! |\n",
    "| a man, a plan, | canal, Panama! |\n",
    "\n",
    "In this case, we should find all the matches."
   ]
  },
  {
   "cell_type": "markdown",
   "id": "bd8f830d-2dc4-4d6f-a6ea-a3b68c1d1553",
   "metadata": {},
   "source": [
    "# Responses"
   ]
  },
  {
   "cell_type": "markdown",
   "id": "c6d1fae0-18e9-4a64-9e22-acdc77cbf02a",
   "metadata": {},
   "source": [
    "Now we can _match_ a rule against an input text, it's time to _respond_ to that text.\n",
    "\n",
    "We'll use the `response` part of the rule, together with the `bindings` we've found, to build the response.\n",
    "\n",
    "We'll walk along the `response`, element by element. We'll build up the `filled_response` as we go. If the current element of the `response` is a variable, we add the variable's bound value to the `filled_response`; otherwise, the element is a word, and we add it.\n",
    "\n",
    "For instance, if we have the rule\n",
    "\n",
    "```\n",
    "pattern: ?X sat on ?Y\n",
    "response: does ?Y like ?X ?\n",
    "```\n",
    "\n",
    "and the binding `{'?X': ['the', 'cat'], ?Y': ['the', 'mat']}` , we would want to build the response `['does', 'the', 'mat', 'like', 'the', 'cat', '?']`"
   ]
  },
  {
   "cell_type": "markdown",
   "id": "131280a9-33ef-4f65-85b0-52ad7458aaaa",
   "metadata": {},
   "source": [
    "## Exercise"
   ]
  },
  {
   "cell_type": "markdown",
   "id": "5029467a-15fc-4467-96a7-247652cbb2df",
   "metadata": {},
   "source": [
    "Write `fill`, that takes a rule response and some bindings, and fills out the response. Note that the `response` is a list of tokens, either words or variables."
   ]
  },
  {
   "cell_type": "markdown",
   "id": "0fe44dc9-46c5-4f81-86cb-359f9c026760",
   "metadata": {},
   "source": [
    "### Solution"
   ]
  },
  {
   "cell_type": "code",
   "execution_count": null,
   "id": "b25cfaa2",
   "metadata": {},
   "outputs": [],
   "source": [
    "def fill(response, bindings):\n",
    "    \"\"\"Complete a rule's response by using the bindings to fill\n",
    "    the variable slots.\"\"\"\n",
    "    filled_response = []\n",
    "    for w in response:\n",
    "        if is_var(w):\n",
    "            if w in bindings:\n",
    "                filled_response += bindings[w]\n",
    "            else:\n",
    "                filled_response += ['MISSING']\n",
    "        else:\n",
    "            filled_response += [w]\n",
    "    return filled_response"
   ]
  },
  {
   "cell_type": "markdown",
   "id": "e78f51df-fd27-4554-be44-62ac9658cca1",
   "metadata": {},
   "source": [
    "### End of solution"
   ]
  },
  {
   "cell_type": "markdown",
   "id": "ab505f45-4ad9-4a2b-83b8-5bdb4b6ebc2a",
   "metadata": {},
   "source": [
    "# Interaction loop"
   ]
  },
  {
   "cell_type": "markdown",
   "id": "1b8bdea3-8573-470e-8436-3c74ac48b077",
   "metadata": {},
   "source": [
    "Now we've got all the parts of ELIZA, it's time to put them together.\n",
    "\n",
    "The basic interaction loop is:\n",
    "\n",
    "1. Ask for input\n",
    "2. Find a matching rule\n",
    "3. Build the response\n",
    "4. Repeat forever\n",
    "\n",
    "Expressed in Python, it looks like this:"
   ]
  },
  {
   "cell_type": "code",
   "execution_count": null,
   "id": "197a4f42",
   "metadata": {},
   "outputs": [],
   "source": [
    "def eliza_loop(rules):\n",
    "    \"\"\"Do the main Eliza loop, asking for input and generating responses.\"\"\"\n",
    "    print(\"Hello. I'm Eliza. What seems to be the problem?\")\n",
    "    while True:\n",
    "        c = input(\"> \")\n",
    "        comment = tokenise(c)\n",
    "        if comment[0] in halt_words: break\n",
    "        rule, bindings = all_matches(rules, comment)[0]\n",
    "        swapped_bindings = pronoun_person_swap(bindings)\n",
    "        response = respond(rule, swapped_bindings)\n",
    "        print(' '.join(response))"
   ]
  },
  {
   "cell_type": "markdown",
   "id": "7a951072-cd20-4229-a9f1-3d212cfb2781",
   "metadata": {},
   "source": [
    "There are a few loose ends to tidy up."
   ]
  },
  {
   "cell_type": "markdown",
   "id": "35dc28eb-e7dc-4410-bb83-14792420a4f8",
   "metadata": {},
   "source": [
    "## Stopping"
   ]
  },
  {
   "cell_type": "markdown",
   "id": "6626001c-7807-4755-9c1b-e22961fab49c",
   "metadata": {},
   "source": [
    "At some point, we want to stop ELIZA. We do that by having a list of words to halt on. If the first token of the user's input is one of these, we stop."
   ]
  },
  {
   "cell_type": "code",
   "execution_count": null,
   "id": "645a739f",
   "metadata": {},
   "outputs": [],
   "source": [
    "halt_words = 'quit halt exit stop'.split()"
   ]
  },
  {
   "cell_type": "markdown",
   "id": "58a96d98-18e6-4b66-b173-547209563ef3",
   "metadata": {},
   "source": [
    "## Picking the one rule and binding"
   ]
  },
  {
   "cell_type": "markdown",
   "id": "b4837d40-73da-42ee-91d2-38894fc1d24f",
   "metadata": {},
   "source": [
    "Our `match` procedure can return many bindings for a rule, and there could be many rules that match as given input. Which do we choose?\n",
    "\n",
    "We want to choose the first rule the matches, as that allows us to give specific rules before more general ones. If there are several possible bindings, we could pick any; for convenience, we'll pick the first.\n",
    "\n",
    "We'll do that by writing a function `all_matches` that returns a list of all rule/binding combinations that match the input. We can then take the first of these in the ELIZA main loop (above)."
   ]
  },
  {
   "cell_type": "code",
   "execution_count": null,
   "id": "9f219004-cf11-4063-b765-60f85781d92e",
   "metadata": {},
   "outputs": [],
   "source": [
    "def all_matches(rules, text):\n",
    "    \"\"\"Find all the rules that match the text, returning\n",
    "    the rules and the bindings that allow the match.\"\"\"\n",
    "    results = []\n",
    "    for rule in rules:\n",
    "        for bindings in match(text, rule['pattern']):\n",
    "            results += [(rule, bindings)]\n",
    "    return results"
   ]
  },
  {
   "cell_type": "markdown",
   "id": "4b15ffb6-3e15-4d0c-b2ed-a5b55546b183",
   "metadata": {},
   "source": [
    "## Pronoun swapping"
   ]
  },
  {
   "cell_type": "markdown",
   "id": "1dbf55ac-d5d8-479d-a88a-5fc2ded459ee",
   "metadata": {},
   "source": [
    "Consider the rule\n",
    "\n",
    "* Pattern: 'I like ?X'\n",
    "* Response: 'Tell me more about ?X'\n",
    "\n",
    "applied to the sentence \"I like my cat\".\n",
    "\n",
    "This would bind with `{'?X': 'my cat'}`, and would in turn generate the response \"Tell me more about my cat\". This isn't what we want. Instead, we want to swap pronouns in the bindings from first-person to second-person, so the binding would become `{'?X': 'your cat'}` and the response \"Tell me more about your cat\".\n",
    "\n",
    "We do this with a somple lookup table (implemented as a `dict`) that maps an original word to its replacement."
   ]
  },
  {
   "cell_type": "code",
   "execution_count": null,
   "id": "47d1ac0c",
   "metadata": {},
   "outputs": [],
   "source": [
    "pronoun_swaps = {\n",
    "    'i': 'you',\n",
    "    'me': 'you',\n",
    "    'my': 'your',\n",
    "    'mine': 'yours',\n",
    "    'am': 'are',\n",
    "    'you': 'i',\n",
    "    'your': 'my',\n",
    "    'yours': 'mine'\n",
    "}"
   ]
  },
  {
   "cell_type": "markdown",
   "id": "74f5f51a-ada4-47fb-9cd6-5c771a29c0d6",
   "metadata": {},
   "source": [
    "## Exercise"
   ]
  },
  {
   "cell_type": "markdown",
   "id": "a3834141-f935-4d94-b7b5-ea781a87a9b0",
   "metadata": {},
   "source": [
    "Write the function `pronoun_person_swap` that uses `pronoun_swaps` to change the pronouns in a collection of bindings. You'll need two nested loops (one to cycle through each binding, one to cycle through each word in that binding). For each binding, build up a new bound value, word by word."
   ]
  },
  {
   "cell_type": "markdown",
   "id": "4888526a-f93e-458e-b720-9090c6a64ff3",
   "metadata": {},
   "source": [
    "### Solution"
   ]
  },
  {
   "cell_type": "code",
   "execution_count": null,
   "id": "0e6af7ce-83bc-4b29-b80d-25cef3e1b397",
   "metadata": {},
   "outputs": [],
   "source": [
    "def pronoun_person_swap(bindings):\n",
    "    \"\"\"Swap pronouns in the given bindings.\"\"\"\n",
    "    result = {}\n",
    "    for var in bindings:\n",
    "        swapped_value = []\n",
    "        for word in bindings[var]:\n",
    "            if word in pronoun_swaps:\n",
    "                swapped_value += [pronoun_swaps[word]]\n",
    "            else:\n",
    "                swapped_value += [word]\n",
    "        result[var] = swapped_value\n",
    "    return result"
   ]
  },
  {
   "cell_type": "markdown",
   "id": "1b5d4263-bf07-4cb3-8093-768c6b7d2459",
   "metadata": {},
   "source": [
    "### End of solution"
   ]
  },
  {
   "cell_type": "markdown",
   "id": "bfd3158e-f9ef-47ac-b780-0e4031ac9387",
   "metadata": {},
   "source": [
    "The final part of the interaction loop is to pick a random response from the ones available. We do that with Python's built-in `random` library."
   ]
  },
  {
   "cell_type": "code",
   "execution_count": null,
   "id": "e016c150",
   "metadata": {},
   "outputs": [],
   "source": [
    "def respond(rule, bindings):\n",
    "    \"\"\"Create a single response from a rule.\"\"\"\n",
    "    return fill(random.choice(rule['responses']), bindings)"
   ]
  },
  {
   "cell_type": "markdown",
   "id": "f36eb36b-b7d9-427f-a81a-77a9708fd4f2",
   "metadata": {},
   "source": [
    "# Using ELIZA"
   ]
  },
  {
   "cell_type": "markdown",
   "id": "21703ed0-6bdc-4c16-9606-a0f8e09bb392",
   "metadata": {},
   "source": [
    "With ELIZA built, it's time to use it!\n",
    "\n",
    "We call the main loop, using the rules we loaded earlier. Use one of the halt words to stop the interaction."
   ]
  },
  {
   "cell_type": "code",
   "execution_count": null,
   "id": "4f3b2f33",
   "metadata": {},
   "outputs": [],
   "source": [
    "eliza_loop(all_rules)"
   ]
  },
  {
   "cell_type": "markdown",
   "id": "12a1c0c6-7d90-4429-85f8-23787b3009f7",
   "metadata": {},
   "source": [
    "# Modifying ELIZA"
   ]
  },
  {
   "cell_type": "markdown",
   "id": "96d70385-9739-41ab-bd63-9b8a5fe5fadf",
   "metadata": {},
   "source": [
    "With the basic functionality of ELIZA, we can change its behaviour by changing the rules. \n",
    "\n",
    "Open the `rules.yaml` file (use the \"Files\" icon on the left). You can modify the extisting rules, or add new ones, by typing the new rules into the file. \n",
    "\n",
    "Change some of the rules to change how ELIZA interacts. Remember that ELIZA will respond with the first rule that matches, so you're more likely to see your rules in action if you put them near the top of the `rules.yaml` file.\n",
    "\n",
    "> Note that the formatting must be precise, with the left indents being exactly two spaces. Use an existing rule as a template.\n",
    "\n",
    "Save the file when you're done. Reload the rules then run ELIZA again."
   ]
  },
  {
   "cell_type": "code",
   "execution_count": null,
   "id": "beaff374-6ca2-4100-8d44-0c66c34e392c",
   "metadata": {},
   "outputs": [],
   "source": [
    "all_rules = read_rules('rules.yaml')\n",
    "eliza_loop(all_rules)"
   ]
  },
  {
   "cell_type": "markdown",
   "id": "a9690e74-1183-4eae-92cd-f4e5c0c9fee1",
   "metadata": {},
   "source": [
    "# Conclusion"
   ]
  },
  {
   "cell_type": "markdown",
   "id": "d99eb24e-88e6-468b-933a-4a5cb1ef441a",
   "metadata": {},
   "source": [
    "Chatbots have been around since the very dawn of computers. Modern conversational agents work in very differently from this approach, but the very high-level overview of the process is the same. The rules in ELIZA are a form of language model, but one that combines both understanding its input and generating its output. The chatbot uses that language model to \"understand\" what the user says to it, then \"decides\" how to form a response. The fact that ELIZA works at all is down to two key features. One is the very restrictive domain of discourse; ELIZA simulates a [Rogerian psychotherapist](https://en.wikipedia.org/wiki/Person-centered_therapy) who only reflects back what the patient says. The other is the human propensity to anthropomorphise most things around us. People talk; ELIZA talks; therefore ELIZA must be some kind of person. It's an easy trap to fall into, to beware of it when you see other AI-generated text online."
   ]
  },
  {
   "cell_type": "code",
   "execution_count": null,
   "id": "d013da3f-6428-4579-b624-9e74221cb0c3",
   "metadata": {},
   "outputs": [],
   "source": []
  }
 ],
 "metadata": {
  "jupytext": {
   "cell_metadata_filter": "-all",
   "formats": "md,ipynb",
   "notebook_metadata_filter": "-all"
  },
  "kernelspec": {
   "display_name": "Python 3 (ipykernel)",
   "language": "python",
   "name": "python3"
  },
  "language_info": {
   "codemirror_mode": {
    "name": "ipython",
    "version": 3
   },
   "file_extension": ".py",
   "mimetype": "text/x-python",
   "name": "python",
   "nbconvert_exporter": "python",
   "pygments_lexer": "ipython3",
   "version": "3.10.13"
  }
 },
 "nbformat": 4,
 "nbformat_minor": 5
}
