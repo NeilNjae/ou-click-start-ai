{
 "cells": [
  {
   "cell_type": "markdown",
   "id": "ce261a16-a2a7-412e-9cca-e925f64af0ff",
   "metadata": {},
   "source": [
    "# Predicting who would survive the _Titanic_ disaster"
   ]
  },
  {
   "cell_type": "markdown",
   "id": "d42d5c7f-1d2a-4fbd-8fa6-9c92cafcac90",
   "metadata": {},
   "source": [
    "In this activity, you'll develop a small machine learning model to make predictions. The data we'll use comes from the [_Titanic_ disaster of 1912](https://en.wikipedia.org/wiki/Titanic). The [_Titanic_ passengers dataset](https://www.openml.org/search?type=data&sort=runs&id=40945&status=active) has details of just over 1,000 passengers on the ship, including whether they lived or died. \n",
    "\n",
    "We'll use this data to predict what would happen to the two stars of the [1997 film _Titanic_](https://en.wikipedia.org/wiki/Titanic_(1997_film)).\n",
    "\n",
    "On the way, you'll learn some key concepts behind machine learning."
   ]
  },
  {
   "cell_type": "markdown",
   "id": "3229f185-f8af-4253-85d4-bd4d33ef291c",
   "metadata": {},
   "source": [
    "First, we'll load some libraries to process the data, and load the dataset. We've done some pre-processing on the data to convert it to a form that's suitable for the machine learning process we'll be using here."
   ]
  },
  {
   "cell_type": "code",
   "execution_count": null,
   "id": "70fea7d4-4579-4e31-a399-43f22fb16c70",
   "metadata": {},
   "outputs": [],
   "source": [
    "import numpy as np\n",
    "import pandas as pd\n",
    "import matplotlib.pyplot as plt\n",
    "%matplotlib inline\n",
    "\n",
    "from sklearn import tree\n",
    "from sklearn.model_selection import train_test_split, cross_val_score"
   ]
  },
  {
   "cell_type": "code",
   "execution_count": null,
   "id": "fdd89035-5fbe-48c8-b930-4d2e0189a8fa",
   "metadata": {},
   "outputs": [],
   "source": [
    "!wget --no-check-certificate https://raw.githubusercontent.com/NeilNjae/nominet-quick-start-ai/main/1.titanic-survivors/titanic.csv"
   ]
  },
  {
   "cell_type": "code",
   "execution_count": null,
   "id": "6fdebdaa-6376-4bca-a754-3dc890aeb958",
   "metadata": {},
   "outputs": [],
   "source": [
    "titanic_data = pd.read_csv('titanic.csv')\n",
    "titanic_data"
   ]
  },
  {
   "cell_type": "markdown",
   "id": "086e995e-bd00-4850-a1ab-5bad4e6c5ce3",
   "metadata": {},
   "source": [
    "The data has one row for each passenger. The columns show the different data recorded for each passenger. The meanings of the columns are:\n",
    "\n",
    "| Column | Meaning |\n",
    "|--------|---------|\n",
    "| passenger_class | Class of ticket |\n",
    "| age | Passenger's age |\n",
    "| siblings_spouses | Number of siblings and/or spouses aboard |\n",
    "| parents_children | Number of parents and/or children aboard |\n",
    "| fare | Amount paid for the ticket |\n",
    "| has_cabin | Whether the passenger had a cabin |\n",
    "| is_female | Whether the passenger is female |\n",
    "| embarked_C | Where the passenger embarked: |\n",
    "| embarked_Q | Southampton, Cherbourg, or Queenstown |\n",
    "| embarked_S |  |"
   ]
  },
  {
   "cell_type": "markdown",
   "id": "5c56f64a-3011-496a-a6b6-e1e39b2a7fbd",
   "metadata": {},
   "source": [
    "# Looking at the data"
   ]
  },
  {
   "cell_type": "markdown",
   "id": "50732f5d-812e-47e5-9408-a160a698d26e",
   "metadata": {},
   "source": [
    "Now we have the data, we can plot a few graphs to understand who did or didn't survive the _Titanic_ disaster.\n",
    "\n",
    "The first question is, how many people were aboard? How were they distributed by class and gender?"
   ]
  },
  {
   "cell_type": "code",
   "execution_count": null,
   "id": "65a15408-a308-4bea-8ea8-6f6b22f449c6",
   "metadata": {},
   "outputs": [],
   "source": [
    "titanic_data[['passenger_class', 'is_female']].value_counts().sort_index().unstack().plot.bar(stacked=True);"
   ]
  },
  {
   "cell_type": "markdown",
   "id": "099b287a-e979-4811-8184-587878238f31",
   "metadata": {},
   "source": [
    "This shows that there were roughly equal numbers of first and second class passengers, and about twice that for third class. It also shows that first class was about half women, second class had a few more men than women, but third class was over two-thirds men."
   ]
  },
  {
   "cell_type": "markdown",
   "id": "1086b10e-dafc-45b2-be8d-aa8726055d64",
   "metadata": {},
   "source": [
    "The _Titanic_ disaster is reputed for the claim of \"women and children first!\" The idea is that women and children were given priority when getting in the limited number of lifeboats. If that is the case, we should see women and children surviving at a higher rate than men.\n",
    "\n",
    "We can see if that's true by plotting the number of survivors and casualties, split by gender."
   ]
  },
  {
   "cell_type": "code",
   "execution_count": null,
   "id": "16728327-7ed2-4298-aa3f-ee085dc7b9fe",
   "metadata": {},
   "outputs": [],
   "source": [
    "titanic_data[['is_female', 'survived']].value_counts().sort_index().unstack().plot.bar(stacked=True, color=['slategray', 'lime']);"
   ]
  },
  {
   "cell_type": "markdown",
   "id": "fb96cde4-66b3-4735-89f8-6cec6af2e495",
   "metadata": {},
   "source": [
    "This clearly shows that a much greater proportion of women survived than men."
   ]
  },
  {
   "cell_type": "markdown",
   "id": "b5adabf2-a30e-4c29-9af5-2c21d567c5e9",
   "metadata": {},
   "source": [
    "We can also ask about whether children survived. To make the plot clearer, we group the passengers into bands of ten years each; the labels show the \"tens\" digit of their ages. Again, we plot how many in each age band survived."
   ]
  },
  {
   "cell_type": "code",
   "execution_count": null,
   "id": "1b3f76dc-1b28-481d-8967-a61f7bc0aa5d",
   "metadata": {},
   "outputs": [],
   "source": [
    "t = pd.concat([pd.cut(titanic_data.age, bins=8, labels=list(range(8))), titanic_data.survived], axis='columns')\n",
    "t = t.value_counts().sort_index().unstack().fillna(0)\n",
    "t.plot.bar(stacked=True, color=['slategray', 'lime']);"
   ]
  },
  {
   "cell_type": "markdown",
   "id": "2c57cbe4-96a1-465d-a19c-a75bcab7039c",
   "metadata": {},
   "source": [
    "The numbers in each age band are very different, so it's hard to draw conclusions. Let's scale the bars so they're all the same height, and we can directly see the proportions. "
   ]
  },
  {
   "cell_type": "code",
   "execution_count": null,
   "id": "280d65ba-2c1f-4ccf-8f00-4e8e09c1384e",
   "metadata": {},
   "outputs": [],
   "source": [
    "t = t.div(t.sum(axis='columns'), axis='rows')\n",
    "t.plot.bar(stacked=True, color=['slategray', 'lime']);"
   ]
  },
  {
   "cell_type": "markdown",
   "id": "4859a696-1359-425b-ad99-27aa7cdb6821",
   "metadata": {},
   "source": [
    "This shows that children did have a higher survival rate than others, but it wasn't a huge difference."
   ]
  },
  {
   "cell_type": "markdown",
   "id": "89f3b90d-eea9-4885-a90d-8ada47da3806",
   "metadata": {},
   "source": [
    "Another element to look at is the class of the passengers. Was the _Titanic_ disaster one where \"rank hath its priviliges\" and the better-off passengers were more likely to survive?"
   ]
  },
  {
   "cell_type": "code",
   "execution_count": null,
   "id": "5814e872-2786-4ae5-b43e-fb47185ca609",
   "metadata": {},
   "outputs": [],
   "source": [
    "titanic_data[['passenger_class', 'survived']].value_counts().sort_index().unstack().plot.bar(stacked=True, color=['slategray', 'lime']);"
   ]
  },
  {
   "cell_type": "markdown",
   "id": "cc14befb-1fad-472a-a229-4d4b02034602",
   "metadata": {},
   "source": [
    "There's a clear difference among the classes, with a much higher proportion of first class passengers surviving than other classes, and most of the third-class passengers dying."
   ]
  },
  {
   "cell_type": "markdown",
   "id": "0d60bd60-7e07-491e-bb6a-141909a1b393",
   "metadata": {},
   "source": [
    "We can also look at the combination of class and gender. Did the \"women and children first\" approach apply differently in different classes?"
   ]
  },
  {
   "cell_type": "code",
   "execution_count": null,
   "id": "b90ae255-c284-4c90-ac6b-57a61e78c2a2",
   "metadata": {},
   "outputs": [],
   "source": [
    "titanic_data[['passenger_class', 'is_female', 'survived']].value_counts().sort_index().unstack().plot.bar(stacked=True, color=['slategray', 'lime']);"
   ]
  },
  {
   "cell_type": "markdown",
   "id": "359c5ab6-e850-47bf-adc7-4663aa67dc06",
   "metadata": {},
   "source": [
    "The evidence suggests that yes, it did, but in all classes the women had a higher survivial rate than the men. The difference is most stark among the second-class passengers, where most of the men died but most of the women survived."
   ]
  },
  {
   "cell_type": "markdown",
   "id": "89ee445f-f886-460c-8f19-4fdb2802551b",
   "metadata": {},
   "source": [
    "# Machine learning"
   ]
  },
  {
   "cell_type": "markdown",
   "id": "dce1b156-eff5-428c-bfeb-4edfa3aff3ea",
   "metadata": {},
   "source": [
    "Looking at some overviews of the data can help us understand some parts of the human cost of the disaster, but they can only go so far. Another approach is to use machine learning to understand the fates of people on the _Titanic_. \n",
    "\n",
    "In this activity we'll use a _decision tree_. This is like a game of _Twenty Questions_ or some bird identification keys. When you're trying to classify some item, you ask a series of yes/no questions. Based on the answers, you move down the tree to the next question. When you reach a leaf of the tree, you have your answer. \n",
    "\n",
    "For instance, consider this simple decision tree, about whether it's worth going outside to play tennis. \n",
    "\n",
    "![A decision tree](GEP_decision_tree_with_numeric_and_nominal_attributes.png)\n",
    "\n",
    "When it comes to learning a decision tree, we start with some data, labelled with its true classification. For instance, with the _Titanic_ data, a very _very_ simple model assumes that everyone on the ship died. This model has an accuracy of 59%: 59% of passengers did indeed die.\n",
    "\n",
    "We then look at ways we could split the data, based on the values of some of the information we have. For instance, we could split the data based on gender. If we do that, we find that there are 386 women, of whom 290 (75%) survived, while there are 657 men of whom 135 (21%) survived. Therefore, we have a simple decision tree that asks \"is this person female?\"; if yes, we predict they survived; if no, we predict they died. When we combine these cases, we get a model that has an overall accuracy of 78%. The tree is shown below; the numbers in brackets show the number of people who died and survived respectively.\n",
    "\n",
    "![Sample decision tree based on gender](small-decision-tree-female.webp)\n",
    "\n",
    "A different question we could ask would be whether a person is accompanied by any parents and/or children. 765 people have no parents or children aboard; of these, 268 (35%) survived. 278 people have are accompanied by at least one parent or child; of these, 157 (56%) survived. If we use this question to determine our prediction, we should predict that the unaccompanied people died and the accompanied survived. This model has an overall accuracy of 62%, only marginally better than just saying everyone died. Again, this tree is below.\n",
    "\n",
    "![Sample decision tree based on group](small-decision-tree-alone.webp)\n",
    "\n",
    "Based on this analysis, the root node of our decision tree should select on gender. We can then apply the same procedure again on each of the sub-nodes we've created. We can pick a feature to choose between the women who survived and those who didn't, and the same for the men. We continue to grow the tree, splitting leaf nodes, until either all the people at that leaf are in the same category, there's nothing left to split them, or we reach some kind of limit to growing the tree.\n",
    "\n",
    "(The technical details of how exactly to choose a feature to split on are a bit more involved than this, but this is the essence of how the \"Gini impurity\" algorithm works. There are other ways of doing this, but we won't go into the details of them here.)"
   ]
  },
  {
   "cell_type": "markdown",
   "id": "322257ad-c294-4b2d-8cae-c52f09f25d1a",
   "metadata": {},
   "source": [
    "We now split the data into two parts: the information we're predicting, and the information we're using to make this prediction. By convention, we use the name _X_ for the information we're given and the name _y_ for the information to be predicted. We also convert the data from a Dataframe to a raw array, as is needed by the decision tree."
   ]
  },
  {
   "cell_type": "code",
   "execution_count": null,
   "id": "414d83d4-2fd6-4c88-8e0b-3905d34a5d4f",
   "metadata": {},
   "outputs": [],
   "source": [
    "titanic_x = titanic_data.drop(['survived'], axis='columns').astype(float).values\n",
    "titanic_y = titanic_data.survived.astype(float).values\n",
    "titanic_x"
   ]
  },
  {
   "cell_type": "code",
   "execution_count": null,
   "id": "1e1610ee-3dff-4d65-b46c-8088c043f03b",
   "metadata": {},
   "outputs": [],
   "source": [
    "titanic_y"
   ]
  },
  {
   "cell_type": "markdown",
   "id": "6aedb00e-f522-4afe-893e-0feea9ea935c",
   "metadata": {},
   "source": [
    "The final data preparation step is to split the data into training and testing data. (You'll see why this is important in a moment.) We reserve 20% of the data for testing, and use the rest for training. The testing data is selected randomly."
   ]
  },
  {
   "cell_type": "code",
   "execution_count": null,
   "id": "2fd66638-5972-428c-8a4d-245d9037c34f",
   "metadata": {},
   "outputs": [],
   "source": [
    "X_train, X_test, y_train, y_test = train_test_split(titanic_x, titanic_y, test_size=0.2)\n",
    "X_train.shape, y_train.shape, X_test.shape, y_test.shape"
   ]
  },
  {
   "cell_type": "markdown",
   "id": "9b073844-5845-4ee7-813b-366689459dd4",
   "metadata": {},
   "source": [
    "# Our first decision tree"
   ]
  },
  {
   "cell_type": "markdown",
   "id": "98e11e06-7a38-4780-9848-28759b3b9c80",
   "metadata": {},
   "source": [
    "Let's create a decision tree, and train it (\"fit\" it) on the data we provide."
   ]
  },
  {
   "cell_type": "code",
   "execution_count": null,
   "id": "934ac139-d011-4821-9783-270b2ca43f0e",
   "metadata": {},
   "outputs": [],
   "source": [
    "decision_tree = tree.DecisionTreeClassifier()\n",
    "decision_tree.fit(X_train, y_train)"
   ]
  },
  {
   "cell_type": "markdown",
   "id": "4e0a40d5-3140-469f-af36-7ddddbff3cd3",
   "metadata": {},
   "source": [
    "How well does this work? We'll take the tree's accuracy score based on how well it predicts the actual outcomes."
   ]
  },
  {
   "cell_type": "code",
   "execution_count": null,
   "id": "53c7f1b1-ad7f-4b5a-86e5-834ec02ba27a",
   "metadata": {},
   "outputs": [],
   "source": [
    "decision_tree.score(X_train, y_train)"
   ]
  },
  {
   "cell_type": "markdown",
   "id": "845ec839-a49c-4fb4-a51e-b4c1058aab6e",
   "metadata": {},
   "source": [
    "I can't say exactly what your tree's score will be, as it depends on exactly which passenger records went into training and testing data (allocated randomly, remember?). But you should see someing like 98% accuracy.\n",
    "\n",
    "How well does this decision tree work on the test data?"
   ]
  },
  {
   "cell_type": "code",
   "execution_count": null,
   "id": "12c6901c-3b98-444a-9603-e438aa601325",
   "metadata": {},
   "outputs": [],
   "source": [
    "decision_tree.score(X_test, y_test)"
   ]
  },
  {
   "cell_type": "markdown",
   "id": "5d826151-8093-477f-a0c4-39041109f765",
   "metadata": {},
   "source": [
    "Again, your results will depend on the precise selection of testing data. But you'll probably see a much worse performance of around 72%.\n",
    "\n",
    "Why this big difference?"
   ]
  },
  {
   "cell_type": "markdown",
   "id": "2001fe75-6db2-420c-878c-cfb5b3631d46",
   "metadata": {},
   "source": [
    "## Examining the tree"
   ]
  },
  {
   "cell_type": "markdown",
   "id": "d5521bc1-660f-4448-9caa-5c91ebe86d3d",
   "metadata": {},
   "source": [
    "If we ask a couple of questions about the tree, we might get some idea. How many levels is the tree, and how many leaf (terminal) nodes does it have?"
   ]
  },
  {
   "cell_type": "code",
   "execution_count": null,
   "id": "edf429db-30f0-4376-bfd1-27a2fe6e6fc2",
   "metadata": {},
   "outputs": [],
   "source": [
    "decision_tree.get_depth()"
   ]
  },
  {
   "cell_type": "code",
   "execution_count": null,
   "id": "415ea655-1ae0-4b0d-a89b-3e49ce5d0c88",
   "metadata": {},
   "outputs": [],
   "source": [
    "decision_tree.get_n_leaves()"
   ]
  },
  {
   "cell_type": "markdown",
   "id": "4c287d6f-8ff6-4a28-ac61-70179e707b1f",
   "metadata": {},
   "source": [
    "You'll see a depth of about 21 and about 200 leaves. And there are 834 records in the training data. That means that each leaf, where the classification gets made, only represents about four passengers.\n",
    "\n",
    "We can also ask the decision tree to explain how it comes to a particular decision, by following the nodes being used to make the final classification. In the \"play tennis\" example above, we could \"windy\" node, then the \"outlook\" node, then the \"humidity\" one. That gives some kind of explanation for how the decision tree came to the decision it did.\n",
    "\n",
    "First, we need to ask the tree to make predictions about the passengers in the test data."
   ]
  },
  {
   "cell_type": "code",
   "execution_count": null,
   "id": "7f06fee3-870d-4401-86bb-3172a3691817",
   "metadata": {},
   "outputs": [],
   "source": [
    "y_pred = decision_tree.predict(X_test)"
   ]
  },
  {
   "cell_type": "markdown",
   "id": "7df8b192-d4c3-4a5e-aa19-f8ca75881a08",
   "metadata": {},
   "source": [
    "This chunk of code looks at the tree and prints the details in a human-sensible form. Don't worry about the details of it."
   ]
  },
  {
   "cell_type": "code",
   "execution_count": null,
   "id": "c743a92d-940c-4341-b479-62aca27df789",
   "metadata": {},
   "outputs": [],
   "source": [
    "n_nodes = decision_tree.tree_.node_count\n",
    "children_left = decision_tree.tree_.children_left\n",
    "children_right = decision_tree.tree_.children_right\n",
    "feature = decision_tree.tree_.feature\n",
    "threshold = decision_tree.tree_.threshold\n",
    "\n",
    "node_indicator = decision_tree.decision_path(X_test)\n",
    "leaf_id = decision_tree.apply(X_test)\n",
    "\n",
    "column_names = list(titanic_data.drop(['survived'], axis='columns').columns)\n",
    "\n",
    "def show_prediction_path(sample_id):\n",
    "\n",
    "    # obtain ids of the nodes `sample_id` goes through, i.e., row `sample_id`\n",
    "    node_index = node_indicator.indices[\n",
    "        node_indicator.indptr[sample_id] : node_indicator.indptr[sample_id + 1]\n",
    "    ]\n",
    "\n",
    "    print((f\"Rules used to predict sample {sample_id} \"\n",
    "           f\"(actual class {y_test[sample_id]}, predicted class {y_pred[sample_id]}):\\n\"))\n",
    "    for node_id in node_index:\n",
    "        # continue to the next node if it is a leaf node\n",
    "        if leaf_id[sample_id] == node_id:\n",
    "            continue\n",
    "\n",
    "        # check if value of the split feature for sample 0 is below threshold\n",
    "        if X_test[sample_id, feature[node_id]] <= threshold[node_id]:\n",
    "            threshold_sign = \"<=\"\n",
    "        else:\n",
    "            threshold_sign = \">\"\n",
    "\n",
    "        print(\n",
    "            (f\"decision node {node_id} : (X_test[{sample_id}, {feature[node_id]}] = \"\n",
    "             f\"{X_test[sample_id, feature[node_id]]:2.2f}) \"\n",
    "             f\"{threshold_sign} {threshold[node_id]:2.2f}) \" \n",
    "             f\"({column_names[feature[node_id]]})\")\n",
    "            )"
   ]
  },
  {
   "cell_type": "markdown",
   "id": "f8f75466-b0bc-4143-b57a-dcec2976852c",
   "metadata": {},
   "source": [
    "We can now ask the tree to explain its decision about a particular element of the test data. Let's pick out one particular example, element 10 of the test data. This is the information we have on that person."
   ]
  },
  {
   "cell_type": "code",
   "execution_count": null,
   "id": "2f73741e-a6d1-4a1f-8f33-914d4af8aeef",
   "metadata": {},
   "outputs": [],
   "source": [
    "list(zip(column_names, X_test[10]))"
   ]
  },
  {
   "cell_type": "markdown",
   "id": "44be26e9-e44c-4ef7-a90f-54e337b19e07",
   "metadata": {},
   "source": [
    "What decision was made about this person? How was this decison made?"
   ]
  },
  {
   "cell_type": "code",
   "execution_count": null,
   "id": "1294bb29-b17b-479e-a680-a9d0cd9e8f0a",
   "metadata": {},
   "outputs": [],
   "source": [
    "show_prediction_path(10)"
   ]
  },
  {
   "cell_type": "markdown",
   "id": "c6c51951-40a7-427a-b8bc-e19222e26960",
   "metadata": {},
   "source": [
    "I can't predict the exact details of the questions, but you'll probably see lots of testing of age and fare, all seemingly doing much the same thing."
   ]
  },
  {
   "cell_type": "markdown",
   "id": "acd97248-a3d7-4f6a-90e0-591e111473b8",
   "metadata": {},
   "source": [
    "## Why it's going wrong: overfitting"
   ]
  },
  {
   "cell_type": "markdown",
   "id": "41e246d2-fc5e-493e-bcc3-313575e65a81",
   "metadata": {},
   "source": [
    "All this means that the decision tree is **overfitting** to the training data. It's learnt _all_ the fine details of the training data, even the irrelevant ones, in an attempt to produce a good fit. But unseen data will have different irrelevant data, and that will fool the model into making the wrong predicitons.\n",
    "\n",
    "The diagram below gives the idea. The model learns to separate the red and blue points, and essentially draws the wiggly green line to do so. Then the model is used to classify the black-bordered points, and the overly-wiggly green line gets a lot of them wrong. If the model had been constrained to produce a simpler line of separation (the black line), the performance on the training data would be lower, but the performance on new data would be be much better.\n",
    "\n",
    "![Overfitting example](overfitting.png)"
   ]
  },
  {
   "cell_type": "markdown",
   "id": "9109b694-3efa-4a69-bfcc-8dc8c48bf8e8",
   "metadata": {},
   "source": [
    "How do we constrain the complexity of a decision tree model? There are a few ways, but the simplest is to limit the depth of the tree. There are probably only a few key variables in the data that determine survival or not, and the rest are just noise or irrelevant detail (such as the precise cost of a ticket).\n",
    "\n",
    "We can limit the depth of a decision tree by passing in the `max_depth` parameter when we create it. Let's try a depth of 1, as per the example diagrams above."
   ]
  },
  {
   "cell_type": "code",
   "execution_count": null,
   "id": "a7ca08d6-19eb-4615-bdbf-dff632331ae1",
   "metadata": {},
   "outputs": [],
   "source": [
    "decision_tree = tree.DecisionTreeClassifier(max_depth=1)\n",
    "decision_tree.fit(X_train, y_train)"
   ]
  },
  {
   "cell_type": "markdown",
   "id": "efaa5786-7358-4a41-976a-6c8d9af7a377",
   "metadata": {},
   "source": [
    "How well does this work? Again, we'll score the tree on both the training and testing data."
   ]
  },
  {
   "cell_type": "code",
   "execution_count": null,
   "id": "fbe9de2c-2f72-480b-9545-012c1f5323e1",
   "metadata": {},
   "outputs": [],
   "source": [
    "decision_tree.score(X_train, y_train)"
   ]
  },
  {
   "cell_type": "code",
   "execution_count": null,
   "id": "39ec574b-418e-4700-a0b0-bbc81ec82f8e",
   "metadata": {},
   "outputs": [],
   "source": [
    "decision_tree.score(X_test, y_test)"
   ]
  },
  {
   "cell_type": "markdown",
   "id": "d2f7ad6c-3d9f-44f9-9b1b-19e062dd188c",
   "metadata": {},
   "source": [
    "Again, your results will depend on the precise selection of testing data. But you'll probably see a much worse performance of around 76%, and very little difference between the training and testing results."
   ]
  },
  {
   "cell_type": "markdown",
   "id": "42382080-6e0d-4360-b62e-09cfee175782",
   "metadata": {},
   "source": [
    "This tree is also small enough to show its full structure. \n",
    "\n",
    "Each node in the decision tree contains some information about itself:\n",
    "* a node number, as an identifier\n",
    "* the test made at this node\n",
    "* the number of elements (passengers) in the training data that are processed by this node\n",
    "* the balance of classes of elements (passenger) at this node. The first number is the number of passengers who died, the second is the number of passengers who survived.\n",
    "\n",
    "In the sample image below, the test at `node #0` is whether the `is_female` feature is less than 0.5 (in other words, `is_female` is false). 521 elements of the training data end up in `node #1`; 414 of those people died, 107 survived.\n",
    "\n",
    "![A sample tree](sample_shallow_tree.png)\n",
    "\n",
    "The cell below will show your own tree. It will look a little different from this sample."
   ]
  },
  {
   "cell_type": "code",
   "execution_count": null,
   "id": "ad44bb2a-ac21-43e9-8ad2-9dbc6c443d3b",
   "metadata": {},
   "outputs": [],
   "source": [
    "plt.figure(figsize=(15, 12))\n",
    "f = tree.plot_tree(decision_tree,\n",
    "              feature_names=column_names,\n",
    "              node_ids=True,\n",
    "              impurity=False,\n",
    "              );"
   ]
  },
  {
   "cell_type": "markdown",
   "id": "fb0a91c6-23dc-45bb-b3bc-278b0bd7cd32",
   "metadata": {},
   "source": [
    "# Finding a better tree depth"
   ]
  },
  {
   "cell_type": "markdown",
   "id": "b82021f3-7c8d-44c5-89d1-cbe1efc03ba6",
   "metadata": {},
   "source": [
    "A depth of 1 is too little. A depth of 21-ish is too much. What's the best depth, that balances how the tree takes into account the data, and getting distracted by irrelevant noise? Unfortunately, there's no hard-and-fast rule to tell you what the best depth may be. You could make guesses based on the type of data, or you could try a few depths and see what works best.\n",
    "\n",
    "You don't know enough to make guesses based on the data, so trial-and-error it is.\n",
    "\n",
    "The obvious way to do this is to train a series of trees on the training data, then evaluate them on the testing data. But that's a problem because we're \"marking our own homework\". As we're including the testing data in the process for how to find the best model, we've nothing left to see how the model works on truely unseen data.\n",
    "\n",
    "What we need to do is split our training data into two parts. Most of it we'll use for training; some we'll reserve for _validation_ of the models as we're building them. Once we're happy with the model we want to use, we'll see how well it _really_ does on genuinely unseen data."
   ]
  },
  {
   "cell_type": "code",
   "execution_count": null,
   "id": "fab4a707-fd07-4664-8991-2dd1ac5725b6",
   "metadata": {},
   "outputs": [],
   "source": [
    "X_train_small, X_validation, y_train_small, y_validation = train_test_split(X_train, y_train, test_size=0.2)\n",
    "X_train_small.shape, y_train_small.shape, X_validation.shape, y_validation.shape"
   ]
  },
  {
   "cell_type": "code",
   "execution_count": null,
   "id": "a713aa2d-a81c-45e9-a328-0aa54b5c2f65",
   "metadata": {},
   "outputs": [],
   "source": [
    "depth_scores = pd.Series()\n",
    "for depth in range(1, 20):\n",
    "    decision_tree = tree.DecisionTreeClassifier(max_depth=depth)\n",
    "    decision_tree.fit(X_train_small, y_train_small)\n",
    "    score = decision_tree.score(X_validation, y_validation)\n",
    "    depth_scores[depth] = score\n",
    "depth_scores"
   ]
  },
  {
   "cell_type": "code",
   "execution_count": null,
   "id": "3aef3319-17a5-4c79-82dc-f03fcf006019",
   "metadata": {},
   "outputs": [],
   "source": [
    "depth_scores.plot(xticks=(list(range(1, 20, 2))))"
   ]
  },
  {
   "cell_type": "markdown",
   "id": "291a1fd2-9b5a-4c1d-a398-fecb0bea66fd",
   "metadata": {},
   "source": [
    "Your results will vary here, but you'll probably find that a tree depth of 3 gives the best result on your validation data.\n",
    "\n",
    "Let's use that to generate the tree we will use. Now we know the best depth, we can train the tree on all the data."
   ]
  },
  {
   "cell_type": "code",
   "execution_count": null,
   "id": "b4cfe40e-d1db-4993-8b31-95d2c8845a05",
   "metadata": {},
   "outputs": [],
   "source": [
    "decision_tree = tree.DecisionTreeClassifier(max_depth=3)\n",
    "decision_tree.fit(X_train, y_train)"
   ]
  },
  {
   "cell_type": "markdown",
   "id": "bd3d2b8c-8c9f-4f34-bb2b-dc93c1035856",
   "metadata": {},
   "source": [
    "How well does it work?"
   ]
  },
  {
   "cell_type": "code",
   "execution_count": null,
   "id": "e3820cb1-b74a-443d-a24d-8ad1e458eda6",
   "metadata": {},
   "outputs": [],
   "source": [
    "decision_tree.score(X_test, y_test)"
   ]
  },
  {
   "cell_type": "markdown",
   "id": "fa4ae002-f859-452d-bf77-c7ae1594c8f4",
   "metadata": {},
   "source": [
    "What does this tree look like? Refer to the sample above to interpret the values shown in the nodes."
   ]
  },
  {
   "cell_type": "code",
   "execution_count": null,
   "id": "58732c2c-0826-4f6e-bdb3-e316a9d4129a",
   "metadata": {},
   "outputs": [],
   "source": [
    "plt.figure(figsize=(15, 12))\n",
    "tree.plot_tree(decision_tree,\n",
    "              feature_names=column_names,\n",
    "              node_ids=True,\n",
    "              impurity=False,\n",
    "              );"
   ]
  },
  {
   "cell_type": "markdown",
   "id": "a00a1ff9-1e53-4f02-9e15-e7a50cf25ef4",
   "metadata": {},
   "source": [
    "We re-capture the details of the tree to generate explanations for how the tree classifies the test data. That also means we generate new predictions for the test data."
   ]
  },
  {
   "cell_type": "code",
   "execution_count": null,
   "id": "8555be61-c602-40cb-b77c-999622ba8df5",
   "metadata": {},
   "outputs": [],
   "source": [
    "y_pred = decision_tree.predict(X_test)"
   ]
  },
  {
   "cell_type": "code",
   "execution_count": null,
   "id": "cdbe059b-d140-4999-b1aa-c9b139a2815e",
   "metadata": {},
   "outputs": [],
   "source": [
    "n_nodes = decision_tree.tree_.node_count\n",
    "children_left = decision_tree.tree_.children_left\n",
    "children_right = decision_tree.tree_.children_right\n",
    "feature = decision_tree.tree_.feature\n",
    "threshold = decision_tree.tree_.threshold\n",
    "\n",
    "node_indicator = decision_tree.decision_path(X_test)\n",
    "leaf_id = decision_tree.apply(X_test)"
   ]
  },
  {
   "cell_type": "markdown",
   "id": "894c3b81-a4a2-4ec9-bc89-d6b84c71c4e9",
   "metadata": {},
   "source": [
    "And we can look at how one particular node is classified."
   ]
  },
  {
   "cell_type": "code",
   "execution_count": null,
   "id": "9e3f3635-79f5-427b-93fc-8329f066c39c",
   "metadata": {},
   "outputs": [],
   "source": [
    "sample_passenger_id = 3\n",
    "print(list(zip(column_names, X_test[sample_passenger_id])))\n",
    "show_prediction_path(sample_passenger_id)"
   ]
  },
  {
   "cell_type": "markdown",
   "id": "2a139b54-9e2e-4551-b74f-f65b0daa60b9",
   "metadata": {},
   "source": [
    "If you compare this to the first decision tree, you should find that the explanation for the classification is easier to understand and makes a little more sense why each question is asked."
   ]
  },
  {
   "cell_type": "markdown",
   "id": "afd68253-f7d5-41bb-9875-0d34c78855ce",
   "metadata": {},
   "source": [
    "# Predicting Rose and Jack\n",
    "Rose and Jack are the two lead chacters from the film _Titanic_. Rose is a young upper-class woman, Jack is a young lower-class man. In the film, Rose survived the shipwreck but Jack did not.\n",
    "\n",
    "This is the data that represents these fictional characters."
   ]
  },
  {
   "cell_type": "code",
   "execution_count": null,
   "id": "7d4ef216-519c-4f92-ad17-854280406e88",
   "metadata": {},
   "outputs": [],
   "source": [
    "rose_jack = pd.DataFrame([{'survived': True, 'passenger_class': 1, 'age': 17, 'siblings_spouses': 0, 'parents_children': 1, 'fare': 200, \n",
    "                          'has_cabin': True, 'is_female': True, 'embarked_C': False, 'embarked_Q': False, 'embarked_S': True},\n",
    "                         {'survived': False, 'passenger_class': 3, 'age': 20, 'siblings_spouses': 0, 'parents_children': 0, 'fare': 10, \n",
    "                          'has_cabin': False, 'is_female': False, 'embarked_C': False, 'embarked_Q': False, 'embarked_S': True}])\n",
    "rose_jack"
   ]
  },
  {
   "cell_type": "markdown",
   "id": "14313440-a1a2-45e6-8fef-9b8d0d193cb5",
   "metadata": {},
   "source": [
    "We can convert this into the form that the decision tree expects."
   ]
  },
  {
   "cell_type": "code",
   "execution_count": null,
   "id": "9772458b-2d36-4478-9121-e67991833edf",
   "metadata": {},
   "outputs": [],
   "source": [
    "X_rose_jack = rose_jack.drop(['survived'], axis='columns').astype(float).values\n",
    "y_rose_jack = rose_jack.survived.astype(float).values"
   ]
  },
  {
   "cell_type": "markdown",
   "id": "1ac7819a-d9da-45f4-974c-a5f1652c73ed",
   "metadata": {},
   "source": [
    "Now we can ask the tree to predict the fates of Rose and Jack."
   ]
  },
  {
   "cell_type": "code",
   "execution_count": null,
   "id": "8f384cb9-78c5-4a12-9fb2-840d08f3d3a1",
   "metadata": {},
   "outputs": [],
   "source": [
    "decision_tree.predict(X_rose_jack)"
   ]
  },
  {
   "cell_type": "markdown",
   "id": "50c15e61-fd6a-4c31-971b-c909e4cdca98",
   "metadata": {},
   "source": [
    "The results will depend on your tree, but you should see the result\n",
    "\n",
    "```python\n",
    "array([1., 0.])\n",
    "```\n",
    "\n",
    "meaning the first record (Rose) is predicted to survive (class 1), while the second (Jack) is predicted to die (class 0). These are the correct classifications.\n",
    "\n",
    "We can ask this tree for its accuracy `score` on \"Rose and Jack\" as a whole."
   ]
  },
  {
   "cell_type": "code",
   "execution_count": null,
   "id": "e10bcc0b-f2ae-4a23-a88a-2e0e9387a010",
   "metadata": {},
   "outputs": [],
   "source": [
    "decision_tree.score(X_rose_jack, y_rose_jack)"
   ]
  },
  {
   "cell_type": "markdown",
   "id": "2cc5cf1f-1588-45f2-b871-49e6797d87b7",
   "metadata": {},
   "source": [
    "You probably see a score of 1.0, meaning 100%. "
   ]
  },
  {
   "cell_type": "markdown",
   "id": "aafcdec9-b471-48f5-b8f5-43b21849c2a7",
   "metadata": {},
   "source": [
    "# Conclusions"
   ]
  },
  {
   "cell_type": "markdown",
   "id": "1a201130-c675-4d4e-8457-b9c295961783",
   "metadata": {},
   "source": [
    "This has been a quick introduction to machine learning, using decision trees to predict survival after the _Titanic_ disaster. You've learnt a few things from this activity.\n",
    "\n",
    "* Machine learning relies on good data to train models.\n",
    "* We need to reserve some of this data as unseen _testing_ data to check how well our models will do on new data.\n",
    "* A signficiant problem with machine learning is _overfitting_, where the machine learning model learns too much from the detail of the training data.\n",
    "* We can address overfitting by keeping the models simple and validating models against data that isn't used for training."
   ]
  },
  {
   "cell_type": "code",
   "execution_count": null,
   "id": "c686862e-c2ab-4d4d-b473-daf5c8131322",
   "metadata": {},
   "outputs": [],
   "source": []
  }
 ],
 "metadata": {
  "jupytext": {
   "formats": "ipynb,md"
  },
  "kernelspec": {
   "display_name": "Python 3 (ipykernel)",
   "language": "python",
   "name": "python3"
  },
  "language_info": {
   "codemirror_mode": {
    "name": "ipython",
    "version": 3
   },
   "file_extension": ".py",
   "mimetype": "text/x-python",
   "name": "python",
   "nbconvert_exporter": "python",
   "pygments_lexer": "ipython3",
   "version": "3.10.13"
  }
 },
 "nbformat": 4,
 "nbformat_minor": 5
}
